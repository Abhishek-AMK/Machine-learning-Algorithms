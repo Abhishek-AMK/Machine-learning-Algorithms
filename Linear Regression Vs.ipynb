{
 "cells": [
  {
   "attachments": {},
   "cell_type": "markdown",
   "metadata": {},
   "source": [
    "Machine learning-Linear Regression"
   ]
  },
  {
   "attachments": {},
   "cell_type": "markdown",
   "metadata": {},
   "source": [
    "The basics of prediction with linear models\n",
    "'closed form,gradient descent & sklearn'\n",
    "working through all the methods to conduct OLS optimization for linear regression"
   ]
  },
  {
   "cell_type": "code",
   "execution_count": null,
   "metadata": {},
   "outputs": [],
   "source": [
    "!pip install yfinance"
   ]
  },
  {
   "cell_type": "code",
   "execution_count": 5,
   "metadata": {},
   "outputs": [],
   "source": [
    "import numpy as np\n",
    "import pandas as pd\n",
    "from datetime import datetime\n",
    "import yfinance as yf"
   ]
  },
  {
   "attachments": {},
   "cell_type": "markdown",
   "metadata": {},
   "source": [
    "let's use some finance data collected from the Yahoo! finance API using yfinance.For the linear regression example.We will compare Microsoft monthly returns(MSFT) vs the market (SPY or S&P 500)"
   ]
  },
  {
   "cell_type": "code",
   "execution_count": 6,
   "metadata": {},
   "outputs": [
    {
     "name": "stdout",
     "output_type": "stream",
     "text": [
      "[*********************100%***********************]  2 of 2 completed\n"
     ]
    },
    {
     "data": {
      "text/html": [
       "<div>\n",
       "<style scoped>\n",
       "    .dataframe tbody tr th:only-of-type {\n",
       "        vertical-align: middle;\n",
       "    }\n",
       "\n",
       "    .dataframe tbody tr th {\n",
       "        vertical-align: top;\n",
       "    }\n",
       "\n",
       "    .dataframe thead tr th {\n",
       "        text-align: left;\n",
       "    }\n",
       "\n",
       "    .dataframe thead tr:last-of-type th {\n",
       "        text-align: right;\n",
       "    }\n",
       "</style>\n",
       "<table border=\"1\" class=\"dataframe\">\n",
       "  <thead>\n",
       "    <tr>\n",
       "      <th></th>\n",
       "      <th colspan=\"2\" halign=\"left\">Adj Close</th>\n",
       "      <th colspan=\"2\" halign=\"left\">Close</th>\n",
       "      <th colspan=\"2\" halign=\"left\">High</th>\n",
       "      <th colspan=\"2\" halign=\"left\">Low</th>\n",
       "      <th colspan=\"2\" halign=\"left\">Open</th>\n",
       "      <th colspan=\"2\" halign=\"left\">Volume</th>\n",
       "    </tr>\n",
       "    <tr>\n",
       "      <th></th>\n",
       "      <th>MSFT</th>\n",
       "      <th>SPY</th>\n",
       "      <th>MSFT</th>\n",
       "      <th>SPY</th>\n",
       "      <th>MSFT</th>\n",
       "      <th>SPY</th>\n",
       "      <th>MSFT</th>\n",
       "      <th>SPY</th>\n",
       "      <th>MSFT</th>\n",
       "      <th>SPY</th>\n",
       "      <th>MSFT</th>\n",
       "      <th>SPY</th>\n",
       "    </tr>\n",
       "    <tr>\n",
       "      <th>Date</th>\n",
       "      <th></th>\n",
       "      <th></th>\n",
       "      <th></th>\n",
       "      <th></th>\n",
       "      <th></th>\n",
       "      <th></th>\n",
       "      <th></th>\n",
       "      <th></th>\n",
       "      <th></th>\n",
       "      <th></th>\n",
       "      <th></th>\n",
       "      <th></th>\n",
       "    </tr>\n",
       "  </thead>\n",
       "  <tbody>\n",
       "    <tr>\n",
       "      <th>2010-01-01</th>\n",
       "      <td>21.509579</td>\n",
       "      <td>83.499336</td>\n",
       "      <td>28.180000</td>\n",
       "      <td>107.389999</td>\n",
       "      <td>31.240000</td>\n",
       "      <td>115.139999</td>\n",
       "      <td>27.660000</td>\n",
       "      <td>107.220001</td>\n",
       "      <td>30.620001</td>\n",
       "      <td>112.370003</td>\n",
       "      <td>1359650900</td>\n",
       "      <td>3706842300</td>\n",
       "    </tr>\n",
       "    <tr>\n",
       "      <th>2010-02-01</th>\n",
       "      <td>21.883593</td>\n",
       "      <td>86.104095</td>\n",
       "      <td>28.670000</td>\n",
       "      <td>110.739998</td>\n",
       "      <td>29.030001</td>\n",
       "      <td>111.580002</td>\n",
       "      <td>27.570000</td>\n",
       "      <td>104.580002</td>\n",
       "      <td>28.389999</td>\n",
       "      <td>108.150002</td>\n",
       "      <td>1074643300</td>\n",
       "      <td>4451912400</td>\n",
       "    </tr>\n",
       "    <tr>\n",
       "      <th>2010-03-01</th>\n",
       "      <td>22.461384</td>\n",
       "      <td>90.971458</td>\n",
       "      <td>29.290001</td>\n",
       "      <td>117.000000</td>\n",
       "      <td>30.570000</td>\n",
       "      <td>118.169998</td>\n",
       "      <td>28.240000</td>\n",
       "      <td>111.169998</td>\n",
       "      <td>28.770000</td>\n",
       "      <td>111.199997</td>\n",
       "      <td>1110237200</td>\n",
       "      <td>3899688500</td>\n",
       "    </tr>\n",
       "    <tr>\n",
       "      <th>2010-04-01</th>\n",
       "      <td>23.419962</td>\n",
       "      <td>92.759178</td>\n",
       "      <td>30.540001</td>\n",
       "      <td>118.809998</td>\n",
       "      <td>31.580000</td>\n",
       "      <td>122.120003</td>\n",
       "      <td>28.620001</td>\n",
       "      <td>117.099998</td>\n",
       "      <td>29.350000</td>\n",
       "      <td>117.800003</td>\n",
       "      <td>1319029500</td>\n",
       "      <td>3887089700</td>\n",
       "    </tr>\n",
       "    <tr>\n",
       "      <th>2010-05-01</th>\n",
       "      <td>19.785032</td>\n",
       "      <td>85.389046</td>\n",
       "      <td>25.799999</td>\n",
       "      <td>109.370003</td>\n",
       "      <td>31.059999</td>\n",
       "      <td>120.680000</td>\n",
       "      <td>24.559999</td>\n",
       "      <td>104.379997</td>\n",
       "      <td>30.670000</td>\n",
       "      <td>119.379997</td>\n",
       "      <td>1720130200</td>\n",
       "      <td>7413878800</td>\n",
       "    </tr>\n",
       "  </tbody>\n",
       "</table>\n",
       "</div>"
      ],
      "text/plain": [
       "            Adj Close                 Close                   High  \\\n",
       "                 MSFT        SPY       MSFT         SPY       MSFT   \n",
       "Date                                                                 \n",
       "2010-01-01  21.509579  83.499336  28.180000  107.389999  31.240000   \n",
       "2010-02-01  21.883593  86.104095  28.670000  110.739998  29.030001   \n",
       "2010-03-01  22.461384  90.971458  29.290001  117.000000  30.570000   \n",
       "2010-04-01  23.419962  92.759178  30.540001  118.809998  31.580000   \n",
       "2010-05-01  19.785032  85.389046  25.799999  109.370003  31.059999   \n",
       "\n",
       "                              Low                   Open              \\\n",
       "                   SPY       MSFT         SPY       MSFT         SPY   \n",
       "Date                                                                   \n",
       "2010-01-01  115.139999  27.660000  107.220001  30.620001  112.370003   \n",
       "2010-02-01  111.580002  27.570000  104.580002  28.389999  108.150002   \n",
       "2010-03-01  118.169998  28.240000  111.169998  28.770000  111.199997   \n",
       "2010-04-01  122.120003  28.620001  117.099998  29.350000  117.800003   \n",
       "2010-05-01  120.680000  24.559999  104.379997  30.670000  119.379997   \n",
       "\n",
       "                Volume              \n",
       "                  MSFT         SPY  \n",
       "Date                                \n",
       "2010-01-01  1359650900  3706842300  \n",
       "2010-02-01  1074643300  4451912400  \n",
       "2010-03-01  1110237200  3899688500  \n",
       "2010-04-01  1319029500  3887089700  \n",
       "2010-05-01  1720130200  7413878800  "
      ]
     },
     "execution_count": 6,
     "metadata": {},
     "output_type": "execute_result"
    }
   ],
   "source": [
    "start_date = datetime(2010,1,1)\n",
    "end_date = datetime(2021,12,31)\n",
    "stock_data=yf.download('SPY MSFT',\n",
    "                       interval=\"1mo\",\n",
    "                       start=start_date,\n",
    "                       end=end_date)\n",
    "stock_data.head()"
   ]
  },
  {
   "cell_type": "code",
   "execution_count": 7,
   "metadata": {},
   "outputs": [
    {
     "data": {
      "text/plain": [
       "MultiIndex([('Adj Close', 'MSFT'),\n",
       "            ('Adj Close',  'SPY'),\n",
       "            (    'Close', 'MSFT'),\n",
       "            (    'Close',  'SPY'),\n",
       "            (     'High', 'MSFT'),\n",
       "            (     'High',  'SPY'),\n",
       "            (      'Low', 'MSFT'),\n",
       "            (      'Low',  'SPY'),\n",
       "            (     'Open', 'MSFT'),\n",
       "            (     'Open',  'SPY'),\n",
       "            (   'Volume', 'MSFT'),\n",
       "            (   'Volume',  'SPY')],\n",
       "           )"
      ]
     },
     "execution_count": 7,
     "metadata": {},
     "output_type": "execute_result"
    }
   ],
   "source": [
    "stock_data.columns"
   ]
  },
  {
   "cell_type": "code",
   "execution_count": 8,
   "metadata": {},
   "outputs": [
    {
     "data": {
      "text/html": [
       "<div>\n",
       "<style scoped>\n",
       "    .dataframe tbody tr th:only-of-type {\n",
       "        vertical-align: middle;\n",
       "    }\n",
       "\n",
       "    .dataframe tbody tr th {\n",
       "        vertical-align: top;\n",
       "    }\n",
       "\n",
       "    .dataframe thead th {\n",
       "        text-align: right;\n",
       "    }\n",
       "</style>\n",
       "<table border=\"1\" class=\"dataframe\">\n",
       "  <thead>\n",
       "    <tr style=\"text-align: right;\">\n",
       "      <th></th>\n",
       "      <th>MSFT</th>\n",
       "      <th>SPY</th>\n",
       "    </tr>\n",
       "    <tr>\n",
       "      <th>Date</th>\n",
       "      <th></th>\n",
       "      <th></th>\n",
       "    </tr>\n",
       "  </thead>\n",
       "  <tbody>\n",
       "    <tr>\n",
       "      <th>2010-02-01</th>\n",
       "      <td>0.017388</td>\n",
       "      <td>0.031195</td>\n",
       "    </tr>\n",
       "    <tr>\n",
       "      <th>2010-03-01</th>\n",
       "      <td>0.026403</td>\n",
       "      <td>0.056529</td>\n",
       "    </tr>\n",
       "    <tr>\n",
       "      <th>2010-04-01</th>\n",
       "      <td>0.042677</td>\n",
       "      <td>0.019651</td>\n",
       "    </tr>\n",
       "    <tr>\n",
       "      <th>2010-05-01</th>\n",
       "      <td>-0.155206</td>\n",
       "      <td>-0.079454</td>\n",
       "    </tr>\n",
       "    <tr>\n",
       "      <th>2010-06-01</th>\n",
       "      <td>-0.104115</td>\n",
       "      <td>-0.056231</td>\n",
       "    </tr>\n",
       "  </tbody>\n",
       "</table>\n",
       "</div>"
      ],
      "text/plain": [
       "                MSFT       SPY\n",
       "Date                          \n",
       "2010-02-01  0.017388  0.031195\n",
       "2010-03-01  0.026403  0.056529\n",
       "2010-04-01  0.042677  0.019651\n",
       "2010-05-01 -0.155206 -0.079454\n",
       "2010-06-01 -0.104115 -0.056231"
      ]
     },
     "execution_count": 8,
     "metadata": {},
     "output_type": "execute_result"
    }
   ],
   "source": [
    "stock_data_adj_close = stock_data.iloc[:,stock_data.columns.get_level_values(0)=='Adj Close'].pct_change().dropna()\n",
    "stock_data_adj_close.columns=['MSFT','SPY']\n",
    "stock_data_adj_close.head()"
   ]
  },
  {
   "cell_type": "code",
   "execution_count": 9,
   "metadata": {},
   "outputs": [],
   "source": [
    "from seaborn import scatterplot"
   ]
  },
  {
   "cell_type": "code",
   "execution_count": 10,
   "metadata": {},
   "outputs": [
    {
     "data": {
      "text/plain": [
       "<Axes: xlabel='MSFT', ylabel='SPY'>"
      ]
     },
     "execution_count": 10,
     "metadata": {},
     "output_type": "execute_result"
    },
    {
     "data": {
      "image/png": "[encoded data removed]",
      "text/plain": [
       "<Figure size 640x480 with 1 Axes>"
      ]
     },
     "metadata": {},
     "output_type": "display_data"
    }
   ],
   "source": [
    "scatterplot(data=stock_data_adj_close,x='MSFT',y='SPY')"
   ]
  },
  {
   "attachments": {},
   "cell_type": "markdown",
   "metadata": {},
   "source": [
    "Let's look at creating our linear regression model using closed from OLS model"
   ]
  },
  {
   "cell_type": "code",
   "execution_count": 11,
   "metadata": {},
   "outputs": [],
   "source": [
    "x = stock_data_adj_close.SPY.values\n",
    "ones = np.ones(len(x))\n",
    "x = np.vstack((ones,x))\n",
    "x=x.T\n",
    "y=stock_data_adj_close.MSFT.values\n"
   ]
  },
  {
   "cell_type": "code",
   "execution_count": 12,
   "metadata": {},
   "outputs": [
    {
     "name": "stdout",
     "output_type": "stream",
     "text": [
      "[0.00867072 0.96867953]\n"
     ]
    }
   ],
   "source": [
    "#closed form calculation\n",
    "betas=np.linalg.inv(x.T @ x) @ x.T @ y\n",
    "print(betas)"
   ]
  },
  {
   "attachments": {},
   "cell_type": "markdown",
   "metadata": {},
   "source": [
    "Now lets do the same thing but with gradient descent"
   ]
  },
  {
   "cell_type": "code",
   "execution_count": 13,
   "metadata": {},
   "outputs": [],
   "source": [
    "x=x[:,1] #remove the ones column for this part"
   ]
  },
  {
   "cell_type": "code",
   "execution_count": 14,
   "metadata": {},
   "outputs": [
    {
     "name": "stdout",
     "output_type": "stream",
     "text": [
      "0.008670717225811394 0.9686795261696352\n"
     ]
    }
   ],
   "source": [
    "# initialize the parameteres to 0(not exact 0)\n",
    "b_1=0.01\n",
    "b_0=0.01\n",
    "alpha=0.1 # the learning rate\n",
    "epochs=70000 # The no. of descent iteration\n",
    "\n",
    "n=float(len(x)) # no. of elements in x\n",
    "# Gradient descent \n",
    "for i in range(epochs):\n",
    "    y_pred = b_1*x+b_0 # the current predicted value of y\n",
    "    D_b_1 = (-2/n)*sum(x*(y-y_pred)) # derivative wrt b_1\n",
    "    D_b_0 = (-2/n)*sum(y-y_pred) # derivative wrt b_0\n",
    "    b_1=b_1-alpha*D_b_1 #update b_1\n",
    "    b_0=b_0-alpha*D_b_0 #update b_0\n",
    "print(b_0,b_1)"
   ]
  },
  {
   "attachments": {},
   "cell_type": "markdown",
   "metadata": {},
   "source": [
    "Now lets see how it is done using sklearn"
   ]
  },
  {
   "cell_type": "code",
   "execution_count": 15,
   "metadata": {},
   "outputs": [],
   "source": [
    "from sklearn.linear_model import LinearRegression\n",
    "from matplotlib import pyplot as plt"
   ]
  },
  {
   "cell_type": "code",
   "execution_count": 16,
   "metadata": {},
   "outputs": [
    {
     "name": "stdout",
     "output_type": "stream",
     "text": [
      "0.4151036176666262\n"
     ]
    }
   ],
   "source": [
    "# keep in mind we have to split this data .however this data is timeseries so we can only test it to predict forward\n",
    "regr=LinearRegression()\n",
    "x=x.reshape(-1,1) #shape needed for sklearn\n",
    "regr.fit(x,y)\n",
    "print(regr.score(x,y)) #gives r^2"
   ]
  },
  {
   "cell_type": "code",
   "execution_count": 17,
   "metadata": {},
   "outputs": [
    {
     "data": {
      "image/png": "[encoded data removed]",
      "text/plain": [
       "<Figure size 640x480 with 1 Axes>"
      ]
     },
     "metadata": {},
     "output_type": "display_data"
    }
   ],
   "source": [
    "plt.scatter(x,y,color='b')\n",
    "plt.plot(x,regr.predict(x),color='k')\n",
    "plt.show()"
   ]
  },
  {
   "cell_type": "code",
   "execution_count": 18,
   "metadata": {},
   "outputs": [
    {
     "name": "stdout",
     "output_type": "stream",
     "text": [
      "[*********************100%***********************]  2 of 2 completed\n"
     ]
    }
   ],
   "source": [
    "# predict going forward\n",
    "start_date = datetime(2022,1,1)\n",
    "end_date = datetime(2022,12,31)\n",
    "stock_data=yf.download('SPY MSFT',\n",
    "                       interval=\"1mo\",\n",
    "                       start=start_date,\n",
    "                       end=end_date)\n",
    "stock_data_adj_close = stock_data.iloc[:,stock_data.columns.get_level_values(0)=='Adj Close'].pct_change().dropna()\n",
    "stock_data_adj_close.columns=['MSFT','SPY']\n",
    "x = stock_data_adj_close.SPY.values\n",
    "x=x.reshape(-1,1)\n",
    "y=stock_data_adj_close.MSFT.values"
   ]
  },
  {
   "cell_type": "code",
   "execution_count": 19,
   "metadata": {},
   "outputs": [
    {
     "data": {
      "text/plain": [
       "0.6960137672222133"
      ]
     },
     "execution_count": 19,
     "metadata": {},
     "output_type": "execute_result"
    }
   ],
   "source": [
    "from sklearn.metrics import r2_score\n",
    "r2_score(y,regr.predict(x))"
   ]
  },
  {
   "cell_type": "code",
   "execution_count": 20,
   "metadata": {},
   "outputs": [
    {
     "data": {
      "image/png": "[encoded data removed]",
      "text/plain": [
       "<Figure size 640x480 with 1 Axes>"
      ]
     },
     "metadata": {},
     "output_type": "display_data"
    }
   ],
   "source": [
    "plt.scatter(x,y,color='b')\n",
    "plt.show()"
   ]
  }
 ],
 "metadata": {
  "kernelspec": {
   "display_name": "Python 3",
   "language": "python",
   "name": "python3"
  },
  "language_info": {
   "codemirror_mode": {
    "name": "ipython",
    "version": 3
   },
   "file_extension": ".py",
   "mimetype": "text/x-python",
   "name": "python",
   "nbconvert_exporter": "python",
   "pygments_lexer": "ipython3",
   "version": "3.10.11"
  },
  "orig_nbformat": 4
 },
 "nbformat": 4,
 "nbformat_minor": 2
}
