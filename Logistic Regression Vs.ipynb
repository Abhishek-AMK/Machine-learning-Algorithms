{
 "cells": [
  {
   "attachments": {},
   "cell_type": "markdown",
   "metadata": {},
   "source": [
    "gradient descent & sklearn"
   ]
  },
  {
   "cell_type": "code",
   "execution_count": 1,
   "metadata": {},
   "outputs": [],
   "source": [
    "import numpy as np\n",
    "import pandas as pd\n",
    "import math\n",
    "import matplotlib.pyplot as plt\n",
    "from sklearn.model_selection import train_test_split\n",
    "from sklearn.preprocessing import StandardScaler\n",
    "\n",
    "# read titanic dataset\n",
    "df_og = pd.read_csv(r\"C:\\Users\\amkb2\\Downloads\\titanic\\train.csv\")"
   ]
  },
  {
   "cell_type": "code",
   "execution_count": 2,
   "metadata": {},
   "outputs": [
    {
     "name": "stdout",
     "output_type": "stream",
     "text": [
      "size of x_train\n",
      "(596, 6)\n",
      "size of x_test\n",
      "(295, 6)\n"
     ]
    }
   ],
   "source": [
    "# split the data set into train and test sets remove any non-numeric columns\n",
    "x,y = df_og.drop(columns=['PassengerId','Name','Ticket','Cabin','Embarked','Survived']),df_og['Survived']\n",
    "x=x.replace({'male':0,'female':1}).fillna(0)\n",
    "x_train,x_test,y_train,y_test=train_test_split(x,y,test_size=0.33,random_state=42)\n",
    "y_train=y_train.astype(int)\n",
    "y_test=y_test.astype(int)\n",
    "\n",
    "sc=StandardScaler()\n",
    "x_train=sc.fit_transform(x_train)\n",
    "x_test=sc.fit_transform(x_test)\n",
    "\n",
    "print('size of x_train')\n",
    "print(x_train.shape)\n",
    "print('size of x_test')\n",
    "print(x_test.shape)"
   ]
  },
  {
   "cell_type": "code",
   "execution_count": 3,
   "metadata": {},
   "outputs": [
    {
     "data": {
      "text/html": [
       "<div>\n",
       "<style scoped>\n",
       "    .dataframe tbody tr th:only-of-type {\n",
       "        vertical-align: middle;\n",
       "    }\n",
       "\n",
       "    .dataframe tbody tr th {\n",
       "        vertical-align: top;\n",
       "    }\n",
       "\n",
       "    .dataframe thead th {\n",
       "        text-align: right;\n",
       "    }\n",
       "</style>\n",
       "<table border=\"1\" class=\"dataframe\">\n",
       "  <thead>\n",
       "    <tr style=\"text-align: right;\">\n",
       "      <th></th>\n",
       "      <th>Pclass</th>\n",
       "      <th>Sex</th>\n",
       "      <th>Age</th>\n",
       "      <th>SibSp</th>\n",
       "      <th>Parch</th>\n",
       "      <th>Fare</th>\n",
       "    </tr>\n",
       "  </thead>\n",
       "  <tbody>\n",
       "    <tr>\n",
       "      <th>0</th>\n",
       "      <td>3</td>\n",
       "      <td>0</td>\n",
       "      <td>22.0</td>\n",
       "      <td>1</td>\n",
       "      <td>0</td>\n",
       "      <td>7.2500</td>\n",
       "    </tr>\n",
       "    <tr>\n",
       "      <th>1</th>\n",
       "      <td>1</td>\n",
       "      <td>1</td>\n",
       "      <td>38.0</td>\n",
       "      <td>1</td>\n",
       "      <td>0</td>\n",
       "      <td>71.2833</td>\n",
       "    </tr>\n",
       "    <tr>\n",
       "      <th>2</th>\n",
       "      <td>3</td>\n",
       "      <td>1</td>\n",
       "      <td>26.0</td>\n",
       "      <td>0</td>\n",
       "      <td>0</td>\n",
       "      <td>7.9250</td>\n",
       "    </tr>\n",
       "    <tr>\n",
       "      <th>3</th>\n",
       "      <td>1</td>\n",
       "      <td>1</td>\n",
       "      <td>35.0</td>\n",
       "      <td>1</td>\n",
       "      <td>0</td>\n",
       "      <td>53.1000</td>\n",
       "    </tr>\n",
       "    <tr>\n",
       "      <th>4</th>\n",
       "      <td>3</td>\n",
       "      <td>0</td>\n",
       "      <td>35.0</td>\n",
       "      <td>0</td>\n",
       "      <td>0</td>\n",
       "      <td>8.0500</td>\n",
       "    </tr>\n",
       "  </tbody>\n",
       "</table>\n",
       "</div>"
      ],
      "text/plain": [
       "   Pclass  Sex   Age  SibSp  Parch     Fare\n",
       "0       3    0  22.0      1      0   7.2500\n",
       "1       1    1  38.0      1      0  71.2833\n",
       "2       3    1  26.0      0      0   7.9250\n",
       "3       1    1  35.0      1      0  53.1000\n",
       "4       3    0  35.0      0      0   8.0500"
      ]
     },
     "execution_count": 3,
     "metadata": {},
     "output_type": "execute_result"
    }
   ],
   "source": [
    "x.head()"
   ]
  },
  {
   "attachments": {},
   "cell_type": "markdown",
   "metadata": {},
   "source": [
    "let's implement logistic regression"
   ]
  },
  {
   "cell_type": "code",
   "execution_count": 8,
   "metadata": {},
   "outputs": [],
   "source": [
    "def generateXvector(x):\n",
    "    \"\"\"\n",
    "    Taking the original ind var matrix & add a row of 1 which corresponds to x_0\n",
    "    Parameters:\n",
    "        x:ind var matrix\n",
    "    return value:the matrix that contains all the values in the dataset,not include the outcome var\n",
    "    \"\"\"\n",
    "    vectorx=np.c_[np.ones((len(x),1)),x]\n",
    "    return vectorx\n",
    "def beta_init(x):\n",
    "    \"\"\"Generate an initial val of betas from org ind var matrix\n",
    "        Parameters:\n",
    "            x:ind var matrix\n",
    "        Return val:a vector of beta filled with initial guess\n",
    "    \"\"\"\n",
    "    beta=np.random.randn((x.shape[1])+1,1)\n",
    "    return beta\n",
    "def sigmoid_function(x):\n",
    "    \"\"\"\n",
    "    Cal sig val of inputs\n",
    "    Param:\n",
    "        x:val\n",
    "    returnval:the sigmoid val\n",
    "    \"\"\"\n",
    "    return 1/(1+math.e**(-x))\n",
    "def Logistics_Regression(x,y,learningrate,iterations):\n",
    "    \"\"\"\n",
    "    Find the logistic reg model for data set \n",
    "    Parameters:\n",
    "        x:ind var matrix\n",
    "        y:dependent var matrix\n",
    "        learningrate:learningrate of Gradient descent\n",
    "        iterations:the no. of iterations\n",
    "    Return val:the final beta vector & the plot of cost function\n",
    "    \"\"\"\n",
    "    y_new=y.values.reshape((len(y),1))\n",
    "    cost_lst=[]\n",
    "    vectorx=generateXvector(x)\n",
    "    beta=beta_init(x)\n",
    "    m=len(x)\n",
    "    for i in range(iterations):\n",
    "        gradients=2/m*vectorx.T.dot(sigmoid_function(vectorx.dot(beta))-y_new)\n",
    "        beta=beta-learningrate*gradients\n",
    "        y_pred=sigmoid_function(vectorx.dot(beta))\n",
    "        cost_value=-np.sum(np.dot(y_new.T,np.log(y_pred)+np.dot((1-y_new).T,np.log(1-y_pred))))/(len(y_pred))\n",
    "    # cal the loss for each training instance\n",
    "        cost_lst.append(cost_value)\n",
    "    plt.plot(np.arange(1,iterations),cost_lst[1:],color='red')\n",
    "    plt.title('Cost function Graph')\n",
    "    plt.xlabel('Number of iterations')\n",
    "    plt.ylable('Cost')\n",
    "    return beta\n",
    "    "
   ]
  },
  {
   "cell_type": "code",
   "execution_count": 12,
   "metadata": {},
   "outputs": [
    {
     "ename": "AttributeError",
     "evalue": "module 'matplotlib.pyplot' has no attribute 'ylable'",
     "output_type": "error",
     "traceback": [
      "\u001b[1;31m---------------------------------------------------------------------------\u001b[0m",
      "\u001b[1;31mAttributeError\u001b[0m                            Traceback (most recent call last)",
      "Cell \u001b[1;32mIn[12], line 1\u001b[0m\n\u001b[1;32m----> 1\u001b[0m beta\u001b[39m=\u001b[39mLogistics_Regression(x_train,y_train,\u001b[39m0.01\u001b[39;49m,\u001b[39m10000\u001b[39;49m)\n",
      "Cell \u001b[1;32mIn[8], line 51\u001b[0m, in \u001b[0;36mLogistics_Regression\u001b[1;34m(x, y, learningrate, iterations)\u001b[0m\n\u001b[0;32m     49\u001b[0m plt\u001b[39m.\u001b[39mtitle(\u001b[39m'\u001b[39m\u001b[39mCost function Graph\u001b[39m\u001b[39m'\u001b[39m)\n\u001b[0;32m     50\u001b[0m plt\u001b[39m.\u001b[39mxlabel(\u001b[39m'\u001b[39m\u001b[39mNumber of iterations\u001b[39m\u001b[39m'\u001b[39m)\n\u001b[1;32m---> 51\u001b[0m plt\u001b[39m.\u001b[39;49mylable(\u001b[39m'\u001b[39m\u001b[39mCost\u001b[39m\u001b[39m'\u001b[39m)\n\u001b[0;32m     52\u001b[0m \u001b[39mreturn\u001b[39;00m beta\n",
      "\u001b[1;31mAttributeError\u001b[0m: module 'matplotlib.pyplot' has no attribute 'ylable'"
     ]
    },
    {
     "data": {
      "image/png": "[encoded data removed]",
      "text/plain": [
       "<Figure size 640x480 with 1 Axes>"
      ]
     },
     "metadata": {},
     "output_type": "display_data"
    }
   ],
   "source": [
    "beta=Logistics_Regression(x_train,y_train,0.01,10000)"
   ]
  },
  {
   "attachments": {},
   "cell_type": "markdown",
   "metadata": {},
   "source": [
    "SKlearn implementation"
   ]
  },
  {
   "cell_type": "code",
   "execution_count": 15,
   "metadata": {},
   "outputs": [],
   "source": [
    "from sklearn.linear_model import LogisticRegression\n",
    "from sklearn.metrics import confusion_matrix,accuracy_score"
   ]
  },
  {
   "cell_type": "code",
   "execution_count": 16,
   "metadata": {},
   "outputs": [
    {
     "name": "stderr",
     "output_type": "stream",
     "text": [
      "C:\\Users\\amkb2\\AppData\\Local\\Packages\\PythonSoftwareFoundation.Python.3.10_qbz5n2kfra8p0\\LocalCache\\local-packages\\Python310\\site-packages\\sklearn\\linear_model\\_logistic.py:1173: FutureWarning: `penalty='none'`has been deprecated in 1.2 and will be removed in 1.4. To keep the past behaviour, set `penalty=None`.\n",
      "  warnings.warn(\n"
     ]
    },
    {
     "data": {
      "text/plain": [
       "(array([-0.68088451]),\n",
       " array([[-0.6580703 ,  1.24922165, -0.18441534, -0.32395783, -0.08816187,\n",
       "          0.20435519]]))"
      ]
     },
     "execution_count": 16,
     "metadata": {},
     "output_type": "execute_result"
    }
   ],
   "source": [
    "classifier=LogisticRegression(random_state=0,penalty='none')\n",
    "classifier.fit(x_train,y_train)\n",
    "classifier.intercept_,classifier.coef_"
   ]
  },
  {
   "cell_type": "code",
   "execution_count": 17,
   "metadata": {},
   "outputs": [
    {
     "data": {
      "text/plain": [
       "0.7969798657718121"
      ]
     },
     "execution_count": 17,
     "metadata": {},
     "output_type": "execute_result"
    }
   ],
   "source": [
    "y_pred=classifier.predict(x_train)\n",
    "accuracy_score(y_train,y_pred)\n"
   ]
  },
  {
   "cell_type": "code",
   "execution_count": 18,
   "metadata": {},
   "outputs": [
    {
     "data": {
      "text/plain": [
       "0.8067796610169492"
      ]
     },
     "execution_count": 18,
     "metadata": {},
     "output_type": "execute_result"
    }
   ],
   "source": [
    "# for test set\n",
    "y_pred=classifier.predict(x_test)\n",
    "accuracy_score(y_test,y_pred)"
   ]
  },
  {
   "cell_type": "code",
   "execution_count": 19,
   "metadata": {},
   "outputs": [
    {
     "data": {
      "text/plain": [
       "array([[156,  19],\n",
       "       [ 38,  82]], dtype=int64)"
      ]
     },
     "execution_count": 19,
     "metadata": {},
     "output_type": "execute_result"
    }
   ],
   "source": [
    "confusion_matrix(y_test,y_pred)"
   ]
  }
 ],
 "metadata": {
  "kernelspec": {
   "display_name": "Python 3",
   "language": "python",
   "name": "python3"
  },
  "language_info": {
   "codemirror_mode": {
    "name": "ipython",
    "version": 3
   },
   "file_extension": ".py",
   "mimetype": "text/x-python",
   "name": "python",
   "nbconvert_exporter": "python",
   "pygments_lexer": "ipython3",
   "version": "3.10.11"
  },
  "orig_nbformat": 4
 },
 "nbformat": 4,
 "nbformat_minor": 2
}
