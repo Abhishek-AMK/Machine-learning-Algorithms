{
 "cells": [
  {
   "cell_type": "code",
   "execution_count": null,
   "metadata": {},
   "outputs": [],
   "source": [
    "import pandas as pd\n",
    "import numpy as np\n",
    "\n",
    "from sklearn.model_selection import train_test_split # for splitting data into train and test\n",
    "\n",
    "# read in titanic data\n",
    "df_og = pd.read_csv(r'C:\\Users\\amkb2\\Downloads\\titanic\\train.csv')\n",
    "df_og.head()"
   ]
  },
  {
   "cell_type": "code",
   "execution_count": null,
   "metadata": {},
   "outputs": [],
   "source": [
    "# split the data into train and test ,for eg:remove any non-numeric columns\n",
    "X,y = df_og.drop(columns=['PassengerId','Name','Ticket','Cabin','Embarked']),df_og['Survived']\n",
    "X_train,X_test,y_train,y_test = train_test_split(X,y,test_size=0.33,random_state=42)\n",
    "print('size of X_train')\n",
    "print(X_train.shape)\n",
    "print('size of X_test')\n",
    "print(X_test.shape)"
   ]
  },
  {
   "cell_type": "code",
   "execution_count": 29,
   "metadata": {},
   "outputs": [
    {
     "data": {
      "text/plain": [
       "0.3724832214765101"
      ]
     },
     "execution_count": 29,
     "metadata": {},
     "output_type": "execute_result"
    }
   ],
   "source": [
    "X_train['Survived'].mean()"
   ]
  },
  {
   "cell_type": "code",
   "execution_count": null,
   "metadata": {},
   "outputs": [],
   "source": [
    "(X_train.groupby(['Sex','Pclass']).Survived.mean())"
   ]
  },
  {
   "cell_type": "code",
   "execution_count": null,
   "metadata": {},
   "outputs": [],
   "source": [
    "(X_train.groupby(['Sex','Pclass']).Survived.count())"
   ]
  },
  {
   "cell_type": "code",
   "execution_count": 30,
   "metadata": {},
   "outputs": [
    {
     "data": {
      "text/plain": [
       "<Axes: >"
      ]
     },
     "execution_count": 30,
     "metadata": {},
     "output_type": "execute_result"
    },
    {
     "data": {
      "image/png": "[encoded data removed]",
      "text/plain": [
       "<Figure size 640x480 with 1 Axes>"
      ]
     },
     "metadata": {},
     "output_type": "display_data"
    }
   ],
   "source": [
    "X_train[X_train['Survived']==1]['Age'].hist()"
   ]
  },
  {
   "attachments": {},
   "cell_type": "markdown",
   "metadata": {},
   "source": [
    "Building Heuristic Model"
   ]
  },
  {
   "cell_type": "code",
   "execution_count": 23,
   "metadata": {},
   "outputs": [],
   "source": [
    "from hulearn.classification import FunctionClassifier\n",
    "# with this function i'am going to build a function that uses a heuristic to predict\n",
    "def sex_pclass(dataf):\n",
    "    \"\"\"\n",
    "    The prediction is that women and children are going to survive\n",
    "    \"\"\"\n",
    "    women_rule = (dataf['Pclass']<3.0) & (dataf['Sex']=='female')\n",
    "    children_rule = (dataf['Pclass']<3.0) & (dataf['Age']<=15)\n",
    "    pred = women_rule | children_rule\n",
    "\n",
    "    return np.array(pred).astype(int)\n",
    "heuristic_model = FunctionClassifier(sex_pclass)"
   ]
  },
  {
   "cell_type": "code",
   "execution_count": null,
   "metadata": {},
   "outputs": [],
   "source": [
    "sex_pclass(X_train)[0:10]"
   ]
  },
  {
   "cell_type": "code",
   "execution_count": null,
   "metadata": {},
   "outputs": [],
   "source": [
    "from sklearn.metrics import accuracy_score,precision_score,recall_score,f1_score,confusion_matrix\n",
    "\n",
    "preds = heuristic_model.fit(X_train,y_train).predict(X_train)\n",
    "print('accuracy:'+ str(accuracy_score(y_train,preds)))\n",
    "print('precision:'+ str(precision_score(y_train,preds)))\n",
    "print('recall:'+ str(recall_score(y_train,preds)))\n",
    "print('f1:'+ str(f1_score(y_train,preds)))\n",
    "print('confusion_matrix')\n",
    "print(confusion_matrix(y_train,preds))"
   ]
  },
  {
   "cell_type": "code",
   "execution_count": null,
   "metadata": {},
   "outputs": [],
   "source": [
    "# now see how the rule works on test set\n",
    "preds = heuristic_model.fit(X_train,y_train).predict(X_test)\n",
    "print('accuracy:'+ str(accuracy_score(y_test,preds)))\n",
    "print('precision:'+ str(precision_score(y_test,preds)))\n",
    "print('recall:'+ str(recall_score(y_test,preds)))\n",
    "print('f1:'+ str(f1_score(y_test,preds)))\n",
    "print('confusion_matrix')\n",
    "print(confusion_matrix(y_test,preds))"
   ]
  }
 ],
 "metadata": {
  "kernelspec": {
   "display_name": "Python 3",
   "language": "python",
   "name": "python3"
  },
  "language_info": {
   "codemirror_mode": {
    "name": "ipython",
    "version": 3
   },
   "file_extension": ".py",
   "mimetype": "text/x-python",
   "name": "python",
   "nbconvert_exporter": "python",
   "pygments_lexer": "ipython3",
   "version": "3.10.11"
  },
  "orig_nbformat": 4
 },
 "nbformat": 4,
 "nbformat_minor": 2
}
